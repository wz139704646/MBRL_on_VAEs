{
 "cells": [
  {
   "cell_type": "code",
   "execution_count": 1,
   "id": "6db7b306",
   "metadata": {},
   "outputs": [],
   "source": [
    "import sys\n",
    "sys.path.append(\"..\")\n",
    "\n",
    "import torch"
   ]
  },
  {
   "cell_type": "code",
   "execution_count": 4,
   "id": "b5ab167f",
   "metadata": {},
   "outputs": [],
   "source": [
    "from storages.universal_offpolicy_buffer import SimpleUniversalBuffer as Buffer\n",
    "\n",
    "datatype = {'obs': {'dims': [3]}, 'actions': {'dims': [1]}}\n",
    "buf = Buffer(100, datatype)"
   ]
  },
  {
   "cell_type": "code",
   "execution_count": 11,
   "id": "e1fa52fb",
   "metadata": {},
   "outputs": [
    {
     "name": "stdout",
     "output_type": "stream",
     "text": [
      "1\n",
      "2\n",
      "5\n"
     ]
    }
   ],
   "source": [
    "print(buf.size)\n",
    "buf.insert(obs=torch.zeros(1,3), actions=torch.zeros(1,1))\n",
    "print(buf.size)\n",
    "buf.insert(obs=torch.zeros(3,3), actions=torch.zeros(3,1))\n",
    "print(buf.size)"
   ]
  }
 ],
 "metadata": {
  "kernelspec": {
   "display_name": "Python 3",
   "language": "python",
   "name": "python3"
  },
  "language_info": {
   "codemirror_mode": {
    "name": "ipython",
    "version": 3
   },
   "file_extension": ".py",
   "mimetype": "text/x-python",
   "name": "python",
   "nbconvert_exporter": "python",
   "pygments_lexer": "ipython3",
   "version": "3.7.3"
  }
 },
 "nbformat": 4,
 "nbformat_minor": 5
}
