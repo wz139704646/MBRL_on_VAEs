{
 "cells": [
  {
   "cell_type": "code",
   "execution_count": 1,
   "id": "a9a59b0f",
   "metadata": {},
   "outputs": [],
   "source": [
    "import os\n",
    "import sys\n",
    "import time\n",
    "sys.path.append(\"..\")\n",
    "\n",
    "import torch\n",
    "import numpy as np\n",
    "from gym.spaces import Discrete\n",
    "\n",
    "from models.rl import *\n",
    "from models.vaes import *\n",
    "from envs.wrapped_envs import make_vec_atari_envs\n",
    "from load_config import load_config_from_files\n",
    "from experiments.handlers.load_model import adapt_load_model\n",
    "from utils.exp import get_seed, set_seed, unwrap_onehot_to_discrete"
   ]
  },
  {
   "cell_type": "code",
   "execution_count": 2,
   "id": "b6212773",
   "metadata": {},
   "outputs": [],
   "source": [
    "def load_model(_actor, save_dir):\n",
    "    state_dicts_path = os.path.join(save_dir, 'state_dicts.pt')\n",
    "    state_dicts = torch.load(state_dicts_path, map_location='cpu')\n",
    "    \n",
    "    encoder = None\n",
    "    encoder_state_dicts_path = os.path.join(save_dir, 'encoding_model.pth.tar')\n",
    "    if os.path.exists(encoder_state_dicts_path):\n",
    "        load_res = adapt_load_model(encoder_state_dicts_path, map_location='cpu')\n",
    "        encoder = load_res[\"model\"]\n",
    "    _actor.load_state_dict(state_dicts[\"actor\"])\n",
    "    \n",
    "    return _actor, encoder\n",
    "\n",
    "\n",
    "def encode(encoder, obs):\n",
    "    if encoder:\n",
    "        # encoder observation to state\n",
    "        with torch.no_grad():\n",
    "            encoded = encoder.reparameterize(*encoder.encode(obs))\n",
    "    else:\n",
    "        encoded = torch.flatten(obs).view(obs.size(0), -1)\n",
    "        \n",
    "    return encoded"
   ]
  },
  {
   "cell_type": "code",
   "execution_count": 3,
   "id": "799e68fd",
   "metadata": {},
   "outputs": [
    {
     "name": "stdout",
     "output_type": "stream",
     "text": [
      "['./results/checkpoints/BoxingNoFrameskip-v0\\\\boxing_mlp_1', './results/checkpoints/BoxingNoFrameskip-v0\\\\boxing_convvae_1', './results/checkpoints/BoxingNoFrameskip-v0\\\\boxing_convbetavae_1', './results/checkpoints/BoxingNoFrameskip-v0\\\\boxing_convbetatcvae_1', './results/checkpoints/BoxingNoFrameskip-v0\\\\boxing_convfactorvae_1', './results/checkpoints/BoxingNoFrameskip-v0\\\\boxing_convsparsevae_1', './results/checkpoints/BoxingNoFrameskip-v0\\\\boxing_convjointvae_1']\n",
      "['./local_exp_conf/mbpo_vae/boxing_mlp_1.yml', './local_exp_conf/mbpo_vae/boxing_convvae_1.yml', './local_exp_conf/mbpo_vae/boxing_convbetavae_1.yml', './local_exp_conf/mbpo_vae/boxing_convbetatcvae_1.yml', './local_exp_conf/mbpo_vae/boxing_convfactorvae_1.yml', './local_exp_conf/mbpo_vae/boxing_convsparsevae_1.yml', './local_exp_conf/mbpo_vae/boxing_convjointvae_1.yml']\n"
     ]
    }
   ],
   "source": [
    "save_dir = './results/checkpoints/BoxingNoFrameskip-v0'\n",
    "cfg_dir = './local_exp_conf/mbpo_vae/'\n",
    "model_tags = ['boxing_mlp_1',\n",
    "              'boxing_convvae_1',\n",
    "              'boxing_convbetavae_1',\n",
    "              'boxing_convbetatcvae_1',\n",
    "              'boxing_convfactorvae_1',\n",
    "              'boxing_convsparsevae_1',\n",
    "              'boxing_convjointvae_1']\n",
    "\n",
    "saved_models = [os.path.join(save_dir, tag) for tag in model_tags]\n",
    "model_cfgs = [os.path.join(cfg_dir, tag + '.yml') for tag in model_tags]\n",
    "print(saved_models)\n",
    "print(model_cfgs)\n",
    "frame_interval = 0.1 / 3"
   ]
  },
  {
   "cell_type": "code",
   "execution_count": 4,
   "id": "460d4f2e",
   "metadata": {},
   "outputs": [],
   "source": [
    "def set_up(seed, tar_idx, num_ep):\n",
    "    # set seed\n",
    "    set_seed(seed)\n",
    "\n",
    "    cfg_file = model_cfgs[tar_idx]\n",
    "    model_dir = saved_models[tar_idx]\n",
    "\n",
    "    print(cfg_file)\n",
    "    cfgs = load_config_from_files([cfg_file])\n",
    "    rl_cfg = cfgs['rl']\n",
    "    env_cfg = rl_cfg.env\n",
    "    algos_cfg = rl_cfg.algos\n",
    "    sac_cfg = algos_cfg['sac']\n",
    "    encoding = rl_cfg.encoding_config is not None\n",
    "    if encoding:\n",
    "        encoding_cfg = rl_cfg.encoding_config\n",
    "        encoding_model_cfg = encoding_cfg.model_config\n",
    "\n",
    "    # results tmp dir\n",
    "    log_dir = os.path.join('results', env_cfg.env_name, 'tmp', 'log')\n",
    "    if not os.path.exists(log_dir):\n",
    "        os.makedirs(log_dir)\n",
    "\n",
    "    # init env\n",
    "    device = torch.device('cpu')\n",
    "    eval_envs = make_vec_atari_envs(\n",
    "        env_cfg.env_name, get_seed(), 1, None, log_dir,\n",
    "        device, allow_early_resets=True, norm_reward=True)\n",
    "    action_space = eval_envs.action_space\n",
    "    # init state dimension\n",
    "    if encoding:\n",
    "        model_args = encoding_model_cfg.model_args\n",
    "        state_dim = model_args['dim_z']\n",
    "    else:\n",
    "        state_dim = np.prod(eval_envs.observation_space.shape)\n",
    "    # init actor\n",
    "    _actor = Actor(state_dim, action_space, sac_cfg['actor_hidden_dims'],\n",
    "                  state_normalizer=None, use_limited_entropy=False,\n",
    "                  use_tanh_squash=True, use_state_dependent_std=True)\n",
    "\n",
    "    _actor, _encoder = load_model(_actor, model_dir)\n",
    "    _actor.eval()\n",
    "    if _encoder:\n",
    "        _encoder.eval()\n",
    "        \n",
    "    return eval_envs, _actor, _encoder"
   ]
  },
  {
   "cell_type": "markdown",
   "id": "33370855",
   "metadata": {},
   "source": [
    "### ramdom baseline"
   ]
  },
  {
   "cell_type": "code",
   "execution_count": 5,
   "id": "cd516fea",
   "metadata": {},
   "outputs": [],
   "source": [
    "def idle_eps(eval_envs, num_ep, render=False):\n",
    "    # idle agent\n",
    "    eval_episode_rewards = []\n",
    "    eval_episode_lengths = []\n",
    "\n",
    "    obs = eval_envs.reset()\n",
    "    while len(eval_episode_rewards) < num_ep:\n",
    "        if render:\n",
    "            eval_envs.render()\n",
    "            time.sleep(frame_interval)\n",
    "        obs, _, _, infos = eval_envs.step(torch.tensor([[0]]))\n",
    "\n",
    "        eval_episode_rewards.extend([info['episode']['r'] for info in infos if 'episode' in info])\n",
    "        eval_episode_lengths.extend([info['episode']['l'] for info in infos if 'episode' in info])\n",
    "\n",
    "    return eval_episode_rewards, eval_episode_lengths"
   ]
  },
  {
   "cell_type": "code",
   "execution_count": 6,
   "id": "ae45c95e",
   "metadata": {},
   "outputs": [],
   "source": [
    "def random_eps(eval_envs, num_ep, render=False):\n",
    "    # random acting agent\n",
    "    eval_episode_rewards = []\n",
    "    eval_episode_lengths = []\n",
    "\n",
    "    obs = eval_envs.reset()\n",
    "    while len(eval_episode_rewards) < num_ep:\n",
    "        if render:\n",
    "            eval_envs.render()\n",
    "            time.sleep(frame_interval)\n",
    "        obs, _, _, infos = eval_envs.step(\n",
    "            torch.tensor([[eval_envs.action_space.sample()]]))\n",
    "    \n",
    "        eval_episode_rewards.extend([info['episode']['r'] for info in infos if 'episode' in info])\n",
    "        eval_episode_lengths.extend([info['episode']['l'] for info in infos if 'episode' in info])\n",
    "\n",
    "    return eval_episode_rewards, eval_episode_lengths"
   ]
  },
  {
   "cell_type": "code",
   "execution_count": 7,
   "id": "5669d72c",
   "metadata": {},
   "outputs": [],
   "source": [
    "def test_eps(eval_envs, num_ep, _actor, _encoder, render=False):\n",
    "    eval_episode_rewards = []\n",
    "    eval_episode_lengths = []\n",
    "\n",
    "    obs = eval_envs.reset()\n",
    "    states = encode(_encoder, obs)\n",
    "    while len(eval_episode_rewards) < num_ep:\n",
    "        if render:\n",
    "            eval_envs.render()\n",
    "            time.sleep(frame_interval)\n",
    "    \n",
    "        with torch.no_grad():\n",
    "            actions = _actor.act(states, deterministic=True)['actions']\n",
    "        \n",
    "        if isinstance(eval_envs.action_space, Discrete):\n",
    "            actions = torch.tensor(unwrap_onehot_to_discrete(actions.cpu()))\n",
    "        \n",
    "        obs, _, _, infos = eval_envs.step(actions)\n",
    "        states = encode(_encoder, obs)\n",
    "        eval_episode_rewards.extend([info['episode']['r'] for info in infos if 'episode' in info])\n",
    "        eval_episode_lengths.extend([info['episode']['l'] for info in infos if 'episode' in info])\n",
    "    \n",
    "    return eval_episode_rewards, eval_episode_lengths"
   ]
  },
  {
   "cell_type": "code",
   "execution_count": 8,
   "id": "e50d4126",
   "metadata": {},
   "outputs": [],
   "source": [
    "def test_atari(seed, tar_idx, num_ep, render=False):\n",
    "    envs, _actor, _encoder = set_up(seed, tar_idx, num_ep)\n",
    "    if tar_idx == 'idle':\n",
    "        print('run idle')\n",
    "        res = idle_eps(envs, num_ep, render)\n",
    "    elif tar_idx == 'random':\n",
    "        print('run random')\n",
    "        res = random_eps(envs, num_ep, render)\n",
    "    else:\n",
    "        print('run {}th agent'.format(tar_idx))\n",
    "        res = test_eps(envs, num_ep, _actor, _encoder, render)\n",
    "        \n",
    "    envs.close()\n",
    "    return res"
   ]
  },
  {
   "cell_type": "markdown",
   "id": "c0f59389",
   "metadata": {},
   "source": [
    "## run tests"
   ]
  },
  {
   "cell_type": "code",
   "execution_count": 10,
   "id": "f59dc6f7",
   "metadata": {},
   "outputs": [
    {
     "name": "stdout",
     "output_type": "stream",
     "text": [
      "./local_exp_conf/mbpo_vae/boxing_convsparsevae_1.yml\n",
      "run 5th agent\n"
     ]
    },
    {
     "data": {
      "text/plain": [
       "([4.0, 0.0, 2.0, 0.0, -3.0], [1781, 1782, 1783, 1779, 1779])"
      ]
     },
     "execution_count": 10,
     "metadata": {},
     "output_type": "execute_result"
    }
   ],
   "source": [
    "# single render test\n",
    "seed = 5\n",
    "tar_idx = 5\n",
    "num_ep = 5\n",
    "render = True\n",
    "\n",
    "test_atari(seed, tar_idx, num_ep, render)"
   ]
  },
  {
   "cell_type": "code",
   "execution_count": 33,
   "id": "73eb1ae0",
   "metadata": {
    "collapsed": true
   },
   "outputs": [
    {
     "name": "stdout",
     "output_type": "stream",
     "text": [
      "./local_exp_conf/mbpo_vae/boxing_mlp_1.yml\n",
      "run 0th agent\n",
      "./local_exp_conf/mbpo_vae/boxing_mlp_1.yml\n",
      "run 0th agent\n",
      "./local_exp_conf/mbpo_vae/boxing_mlp_1.yml\n",
      "run 0th agent\n",
      "./local_exp_conf/mbpo_vae/boxing_mlp_1.yml\n",
      "run 0th agent\n",
      "./local_exp_conf/mbpo_vae/boxing_mlp_1.yml\n",
      "run 0th agent\n",
      "./local_exp_conf/mbpo_vae/boxing_mlp_1.yml\n",
      "run 0th agent\n",
      "./local_exp_conf/mbpo_vae/boxing_mlp_1.yml\n",
      "run 0th agent\n",
      "./local_exp_conf/mbpo_vae/boxing_mlp_1.yml\n",
      "run 0th agent\n",
      "./local_exp_conf/mbpo_vae/boxing_mlp_1.yml\n",
      "run 0th agent\n",
      "./local_exp_conf/mbpo_vae/boxing_mlp_1.yml\n",
      "run 0th agent\n",
      "./local_exp_conf/mbpo_vae/boxing_convvae_1.yml\n",
      "run 1th agent\n",
      "./local_exp_conf/mbpo_vae/boxing_convvae_1.yml\n",
      "run 1th agent\n",
      "./local_exp_conf/mbpo_vae/boxing_convvae_1.yml\n",
      "run 1th agent\n",
      "./local_exp_conf/mbpo_vae/boxing_convvae_1.yml\n",
      "run 1th agent\n",
      "./local_exp_conf/mbpo_vae/boxing_convvae_1.yml\n",
      "run 1th agent\n",
      "./local_exp_conf/mbpo_vae/boxing_convvae_1.yml\n",
      "run 1th agent\n",
      "./local_exp_conf/mbpo_vae/boxing_convvae_1.yml\n",
      "run 1th agent\n",
      "./local_exp_conf/mbpo_vae/boxing_convvae_1.yml\n",
      "run 1th agent\n",
      "./local_exp_conf/mbpo_vae/boxing_convvae_1.yml\n",
      "run 1th agent\n",
      "./local_exp_conf/mbpo_vae/boxing_convvae_1.yml\n",
      "run 1th agent\n",
      "./local_exp_conf/mbpo_vae/boxing_convbetavae_1.yml\n",
      "run 2th agent\n",
      "./local_exp_conf/mbpo_vae/boxing_convbetavae_1.yml\n",
      "run 2th agent\n",
      "./local_exp_conf/mbpo_vae/boxing_convbetavae_1.yml\n",
      "run 2th agent\n",
      "./local_exp_conf/mbpo_vae/boxing_convbetavae_1.yml\n",
      "run 2th agent\n",
      "./local_exp_conf/mbpo_vae/boxing_convbetavae_1.yml\n",
      "run 2th agent\n",
      "./local_exp_conf/mbpo_vae/boxing_convbetavae_1.yml\n",
      "run 2th agent\n",
      "./local_exp_conf/mbpo_vae/boxing_convbetavae_1.yml\n",
      "run 2th agent\n",
      "./local_exp_conf/mbpo_vae/boxing_convbetavae_1.yml\n",
      "run 2th agent\n",
      "./local_exp_conf/mbpo_vae/boxing_convbetavae_1.yml\n",
      "run 2th agent\n",
      "./local_exp_conf/mbpo_vae/boxing_convbetavae_1.yml\n",
      "run 2th agent\n",
      "./local_exp_conf/mbpo_vae/boxing_convbetatcvae_1.yml\n",
      "run 3th agent\n",
      "./local_exp_conf/mbpo_vae/boxing_convbetatcvae_1.yml\n",
      "run 3th agent\n",
      "./local_exp_conf/mbpo_vae/boxing_convbetatcvae_1.yml\n",
      "run 3th agent\n",
      "./local_exp_conf/mbpo_vae/boxing_convbetatcvae_1.yml\n",
      "run 3th agent\n",
      "./local_exp_conf/mbpo_vae/boxing_convbetatcvae_1.yml\n",
      "run 3th agent\n",
      "./local_exp_conf/mbpo_vae/boxing_convbetatcvae_1.yml\n",
      "run 3th agent\n",
      "./local_exp_conf/mbpo_vae/boxing_convbetatcvae_1.yml\n",
      "run 3th agent\n",
      "./local_exp_conf/mbpo_vae/boxing_convbetatcvae_1.yml\n",
      "run 3th agent\n",
      "./local_exp_conf/mbpo_vae/boxing_convbetatcvae_1.yml\n",
      "run 3th agent\n",
      "./local_exp_conf/mbpo_vae/boxing_convbetatcvae_1.yml\n",
      "run 3th agent\n",
      "./local_exp_conf/mbpo_vae/boxing_convfactorvae_1.yml\n",
      "run 4th agent\n",
      "./local_exp_conf/mbpo_vae/boxing_convfactorvae_1.yml\n",
      "run 4th agent\n",
      "./local_exp_conf/mbpo_vae/boxing_convfactorvae_1.yml\n",
      "run 4th agent\n",
      "./local_exp_conf/mbpo_vae/boxing_convfactorvae_1.yml\n",
      "run 4th agent\n",
      "./local_exp_conf/mbpo_vae/boxing_convfactorvae_1.yml\n",
      "run 4th agent\n",
      "./local_exp_conf/mbpo_vae/boxing_convfactorvae_1.yml\n",
      "run 4th agent\n",
      "./local_exp_conf/mbpo_vae/boxing_convfactorvae_1.yml\n",
      "run 4th agent\n",
      "./local_exp_conf/mbpo_vae/boxing_convfactorvae_1.yml\n",
      "run 4th agent\n",
      "./local_exp_conf/mbpo_vae/boxing_convfactorvae_1.yml\n",
      "run 4th agent\n",
      "./local_exp_conf/mbpo_vae/boxing_convfactorvae_1.yml\n",
      "run 4th agent\n",
      "./local_exp_conf/mbpo_vae/boxing_convsparsevae_1.yml\n",
      "run 5th agent\n"
     ]
    },
    {
     "name": "stderr",
     "output_type": "stream",
     "text": [
      "D:\\Applications\\Python\\Miniconda3\\envs\\gluon\\lib\\site-packages\\torch\\nn\\functional.py:1709: UserWarning: nn.functional.sigmoid is deprecated. Use torch.sigmoid instead.\n",
      "  warnings.warn(\"nn.functional.sigmoid is deprecated. Use torch.sigmoid instead.\")\n"
     ]
    },
    {
     "name": "stdout",
     "output_type": "stream",
     "text": [
      "./local_exp_conf/mbpo_vae/boxing_convsparsevae_1.yml\n",
      "run 5th agent\n",
      "./local_exp_conf/mbpo_vae/boxing_convsparsevae_1.yml\n",
      "run 5th agent\n",
      "./local_exp_conf/mbpo_vae/boxing_convsparsevae_1.yml\n",
      "run 5th agent\n",
      "./local_exp_conf/mbpo_vae/boxing_convsparsevae_1.yml\n",
      "run 5th agent\n",
      "./local_exp_conf/mbpo_vae/boxing_convsparsevae_1.yml\n",
      "run 5th agent\n",
      "./local_exp_conf/mbpo_vae/boxing_convsparsevae_1.yml\n",
      "run 5th agent\n",
      "./local_exp_conf/mbpo_vae/boxing_convsparsevae_1.yml\n",
      "run 5th agent\n",
      "./local_exp_conf/mbpo_vae/boxing_convsparsevae_1.yml\n",
      "run 5th agent\n",
      "./local_exp_conf/mbpo_vae/boxing_convsparsevae_1.yml\n",
      "run 5th agent\n",
      "./local_exp_conf/mbpo_vae/boxing_convjointvae_1.yml\n",
      "run 6th agent\n",
      "./local_exp_conf/mbpo_vae/boxing_convjointvae_1.yml\n",
      "run 6th agent\n",
      "./local_exp_conf/mbpo_vae/boxing_convjointvae_1.yml\n",
      "run 6th agent\n",
      "./local_exp_conf/mbpo_vae/boxing_convjointvae_1.yml\n",
      "run 6th agent\n",
      "./local_exp_conf/mbpo_vae/boxing_convjointvae_1.yml\n",
      "run 6th agent\n",
      "./local_exp_conf/mbpo_vae/boxing_convjointvae_1.yml\n",
      "run 6th agent\n",
      "./local_exp_conf/mbpo_vae/boxing_convjointvae_1.yml\n",
      "run 6th agent\n",
      "./local_exp_conf/mbpo_vae/boxing_convjointvae_1.yml\n",
      "run 6th agent\n",
      "./local_exp_conf/mbpo_vae/boxing_convjointvae_1.yml\n",
      "run 6th agent\n",
      "./local_exp_conf/mbpo_vae/boxing_convjointvae_1.yml\n",
      "run 6th agent\n"
     ]
    },
    {
     "ename": "NameError",
     "evalue": "name 'model_tagss' is not defined",
     "output_type": "error",
     "traceback": [
      "\u001b[1;31m---------------------------------------------------------------------------\u001b[0m",
      "\u001b[1;31mNameError\u001b[0m                                 Traceback (most recent call last)",
      "\u001b[1;32m<ipython-input-33-4dcd2d831488>\u001b[0m in \u001b[0;36m<module>\u001b[1;34m\u001b[0m\n\u001b[0;32m     25\u001b[0m \u001b[1;33m\u001b[0m\u001b[0m\n\u001b[0;32m     26\u001b[0m \u001b[0mplt\u001b[0m\u001b[1;33m.\u001b[0m\u001b[0mtitle\u001b[0m\u001b[1;33m(\u001b[0m\u001b[1;34m'Rewards'\u001b[0m\u001b[1;33m,\u001b[0m \u001b[0mfontsize\u001b[0m\u001b[1;33m=\u001b[0m\u001b[1;36m20\u001b[0m\u001b[1;33m)\u001b[0m\u001b[1;33m\u001b[0m\u001b[1;33m\u001b[0m\u001b[0m\n\u001b[1;32m---> 27\u001b[1;33m \u001b[0mplt\u001b[0m\u001b[1;33m.\u001b[0m\u001b[0mboxplot\u001b[0m\u001b[1;33m(\u001b[0m\u001b[0mrewards\u001b[0m\u001b[1;33m,\u001b[0m \u001b[0mlabels\u001b[0m\u001b[1;33m=\u001b[0m\u001b[0mmodel_tagss\u001b[0m\u001b[1;33m)\u001b[0m\u001b[1;33m\u001b[0m\u001b[1;33m\u001b[0m\u001b[0m\n\u001b[0m",
      "\u001b[1;31mNameError\u001b[0m: name 'model_tagss' is not defined"
     ]
    }
   ],
   "source": [
    "# statistic\n",
    "seeds_range = list(range(100))\n",
    "random.shuffle(seeds_range)\n",
    "seeds = seeds_range[:10]\n",
    "num_ep = 10\n",
    "num_models = len(model_cfgs)\n",
    "\n",
    "rewards = []\n",
    "lengths = []\n",
    "\n",
    "for i in range(num_models):\n",
    "    model_rew = []\n",
    "    model_len = []\n",
    "    for seed in seeds:\n",
    "        rews, lens = test_atari(seed, i, num_ep, False)\n",
    "        model_rew.append(np.mean(rews))\n",
    "        model_len.append(np.mean(lens))\n",
    "    rewards.append(model_rew)\n",
    "    lengths.append(model_len)"
   ]
  },
  {
   "cell_type": "code",
   "execution_count": 40,
   "id": "df5dd2ab",
   "metadata": {},
   "outputs": [],
   "source": [
    "import re\n",
    "tags = [ re.findall(\"_(.+)_\", mtag)[0] for mtag in model_tags ]"
   ]
  },
  {
   "cell_type": "code",
   "execution_count": 2,
   "id": "94535792",
   "metadata": {},
   "outputs": [],
   "source": [
    "import random\n",
    "import matplotlib\n",
    "import matplotlib.pyplot as plt\n",
    "%matplotlib qt5"
   ]
  },
  {
   "cell_type": "code",
   "execution_count": 3,
   "id": "f31e1a15",
   "metadata": {},
   "outputs": [
    {
     "ename": "NameError",
     "evalue": "name 'lengths' is not defined",
     "output_type": "error",
     "traceback": [
      "\u001b[1;31m---------------------------------------------------------------------------\u001b[0m",
      "\u001b[1;31mNameError\u001b[0m                                 Traceback (most recent call last)",
      "\u001b[1;32m<ipython-input-3-30f1ceb24d94>\u001b[0m in \u001b[0;36m<module>\u001b[1;34m\u001b[0m\n\u001b[0;32m      1\u001b[0m \u001b[0mplt\u001b[0m\u001b[1;33m.\u001b[0m\u001b[0mtitle\u001b[0m\u001b[1;33m(\u001b[0m\u001b[1;34m'Episode lengths'\u001b[0m\u001b[1;33m,\u001b[0m \u001b[0mfontsize\u001b[0m\u001b[1;33m=\u001b[0m\u001b[1;36m20\u001b[0m\u001b[1;33m)\u001b[0m\u001b[1;33m\u001b[0m\u001b[1;33m\u001b[0m\u001b[0m\n\u001b[1;32m----> 2\u001b[1;33m \u001b[0mplt\u001b[0m\u001b[1;33m.\u001b[0m\u001b[0mboxplot\u001b[0m\u001b[1;33m(\u001b[0m\u001b[0mlengths\u001b[0m\u001b[1;33m,\u001b[0m \u001b[0mlabels\u001b[0m\u001b[1;33m=\u001b[0m\u001b[0mtags\u001b[0m\u001b[1;33m)\u001b[0m\u001b[1;33m\u001b[0m\u001b[1;33m\u001b[0m\u001b[0m\n\u001b[0m",
      "\u001b[1;31mNameError\u001b[0m: name 'lengths' is not defined"
     ]
    }
   ],
   "source": [
    "plt.title('Episode lengths', fontsize=20)\n",
    "plt.boxplot(lengths, labels=tags)"
   ]
  },
  {
   "cell_type": "code",
   "execution_count": 42,
   "id": "fd32cad6",
   "metadata": {
    "collapsed": true
   },
   "outputs": [
    {
     "data": {
      "text/plain": [
       "{'whiskers': [<matplotlib.lines.Line2D at 0x143764ef9b0>,\n",
       "  <matplotlib.lines.Line2D at 0x143762f90f0>,\n",
       "  <matplotlib.lines.Line2D at 0x14375b473c8>,\n",
       "  <matplotlib.lines.Line2D at 0x14375b47e48>,\n",
       "  <matplotlib.lines.Line2D at 0x14375fcb898>,\n",
       "  <matplotlib.lines.Line2D at 0x14375cf8b00>,\n",
       "  <matplotlib.lines.Line2D at 0x14375ceb2b0>,\n",
       "  <matplotlib.lines.Line2D at 0x14375cdfeb8>,\n",
       "  <matplotlib.lines.Line2D at 0x14375cd0208>,\n",
       "  <matplotlib.lines.Line2D at 0x14375cc9f98>,\n",
       "  <matplotlib.lines.Line2D at 0x143764f5c18>,\n",
       "  <matplotlib.lines.Line2D at 0x143764f5240>,\n",
       "  <matplotlib.lines.Line2D at 0x143741ae438>,\n",
       "  <matplotlib.lines.Line2D at 0x14376eeea90>],\n",
       " 'caps': [<matplotlib.lines.Line2D at 0x143762f99b0>,\n",
       "  <matplotlib.lines.Line2D at 0x143762f9b38>,\n",
       "  <matplotlib.lines.Line2D at 0x14375edf5f8>,\n",
       "  <matplotlib.lines.Line2D at 0x14375edf4a8>,\n",
       "  <matplotlib.lines.Line2D at 0x14375cf84a8>,\n",
       "  <matplotlib.lines.Line2D at 0x14375cf3240>,\n",
       "  <matplotlib.lines.Line2D at 0x14375cdfa58>,\n",
       "  <matplotlib.lines.Line2D at 0x14375cdf4e0>,\n",
       "  <matplotlib.lines.Line2D at 0x14375cc9588>,\n",
       "  <matplotlib.lines.Line2D at 0x14375cc9198>,\n",
       "  <matplotlib.lines.Line2D at 0x143764faa20>,\n",
       "  <matplotlib.lines.Line2D at 0x143764fa320>,\n",
       "  <matplotlib.lines.Line2D at 0x14374891278>,\n",
       "  <matplotlib.lines.Line2D at 0x1436dabd390>],\n",
       " 'boxes': [<matplotlib.lines.Line2D at 0x143764ef4e0>,\n",
       "  <matplotlib.lines.Line2D at 0x14376344ef0>,\n",
       "  <matplotlib.lines.Line2D at 0x14375fd94e0>,\n",
       "  <matplotlib.lines.Line2D at 0x14375ceb358>,\n",
       "  <matplotlib.lines.Line2D at 0x14375cd0898>,\n",
       "  <matplotlib.lines.Line2D at 0x1437652c080>,\n",
       "  <matplotlib.lines.Line2D at 0x143741ae978>],\n",
       " 'medians': [<matplotlib.lines.Line2D at 0x143762f9550>,\n",
       "  <matplotlib.lines.Line2D at 0x14375edf2b0>,\n",
       "  <matplotlib.lines.Line2D at 0x14375cf30f0>,\n",
       "  <matplotlib.lines.Line2D at 0x14375cdf3c8>,\n",
       "  <matplotlib.lines.Line2D at 0x1437652ccc0>,\n",
       "  <matplotlib.lines.Line2D at 0x143764fa4e0>,\n",
       "  <matplotlib.lines.Line2D at 0x14376253f28>],\n",
       " 'fliers': [<matplotlib.lines.Line2D at 0x14376367e80>,\n",
       "  <matplotlib.lines.Line2D at 0x14375b495c0>,\n",
       "  <matplotlib.lines.Line2D at 0x14375cebac8>,\n",
       "  <matplotlib.lines.Line2D at 0x14375cd0f60>,\n",
       "  <matplotlib.lines.Line2D at 0x1437652c710>,\n",
       "  <matplotlib.lines.Line2D at 0x1436e528f60>,\n",
       "  <matplotlib.lines.Line2D at 0x14376253ac8>],\n",
       " 'means': []}"
      ]
     },
     "execution_count": 42,
     "metadata": {},
     "output_type": "execute_result"
    }
   ],
   "source": [
    "plt.title('Rewards', fontsize=20)\n",
    "plt.boxplot(rewards, labels=tags)"
   ]
  }
 ],
 "metadata": {
  "kernelspec": {
   "display_name": "Python 3",
   "language": "python",
   "name": "python3"
  },
  "language_info": {
   "codemirror_mode": {
    "name": "ipython",
    "version": 3
   },
   "file_extension": ".py",
   "mimetype": "text/x-python",
   "name": "python",
   "nbconvert_exporter": "python",
   "pygments_lexer": "ipython3",
   "version": "3.7.3"
  }
 },
 "nbformat": 4,
 "nbformat_minor": 5
}
